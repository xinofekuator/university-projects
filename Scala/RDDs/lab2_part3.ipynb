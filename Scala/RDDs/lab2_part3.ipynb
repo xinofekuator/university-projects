{
 "cells": [
  {
   "cell_type": "markdown",
   "metadata": {},
   "source": [
    "<p align=\"center\"><img src=\"logo/spark.png\" alt=\"Hadoop Logo\" width=\"250\"/></p>\n",
    "# **Lab 2 - Part 3 - Spark**\n",
    "#### This lab will demonstrate how to perform web server log analysis with Spark. Log data is a very large, common data source and contains a rich set of information.  It comes from many sources, such as web, file, and compute servers, application logs, user-generated content,  and can be used for monitoring servers, improving business and customer intelligence, building recommendation systems, fraud detection, and much more. This lab will show you how to use Spark on real-world text-based production logs and fully harness the power of that data."
   ]
  },
  {
   "cell_type": "markdown",
   "metadata": {},
   "source": [
    "### **Part 1: Apache Web Server Log file format**\n"
   ]
  },
  {
   "cell_type": "markdown",
   "metadata": {},
   "source": [
    "The log files that we use for this assignment are in the [Apache Common Log Format (CLF)](http://httpd.apache.org/docs/1.3/logs.html#common). The log file entries produced in CLF will look something like this:\n",
    "`127.0.0.1 - - [01/Aug/1995:00:00:01 -0400] \"GET /images/launch-logo.gif HTTP/1.0\" 200 1839`\n",
    " \n",
    "Each part of this log entry is described below:\n",
    "* **`127.0.0.1`:** this is the IP address (or host name, if available) of the client (remote host) which made the request to the server. \n",
    "* **`-`:** the \"hyphen\" in the output indicates that the requested piece of information (user identity from remote machine) is not available.\n",
    "* **`-`:** the \"hyphen\" in the output indicates that the requested piece of information (user identity from local logon) is not available. \n",
    "* **`[01/Aug/1995:00:00:01 -0400]`:** the time that the server finished processing the request. The format is:\n",
    "`[day/month/year:hour:minute:second timezone]`.\n",
    "* **`\"GET /images/launch-logo.gif HTTP/1.0\"`:** this is the first line of the request string from the client. It consists of a three components: the request method (e.g., `GET`, `POST`, etc.), the endpoint, and the client protocol version. \n",
    "* **`200`:** this is the status code that the server sends back to the client. This information is very valuable, because it reveals whether the request resulted in a successful response (codes beginning in 2), a redirection (codes beginning in 3), an error caused by the client (codes beginning in 4), or an error in the server (codes beginning in 5). The full list of possible status codes can be found in the HTTP specification ([RFC 2616](https://www.ietf.org/rfc/rfc2616.txt) section 10).\n",
    "* **`1839`:** the last entry indicates the size of the object returned to the client, not including the response headers. If no content was returned to the client, this value will be \"-\" (or sometimes 0).\n",
    " \n",
    "Using the CLF as defined above, we create a regular expression pattern to extract the nine fields of the log line. The function returns a pair consisting of a Row object and 1. If the log line fails to match the regular expression, the function returns a pair consisting of the log line string and 0. A '-' value in the content size field is cleaned up by substituting it with 0. The function converts the log line's date string into a Python `datetime` object using the given `parse_apache_time` function.\n",
    "\n",
    "We, then, create the primary RDD and  we'll use in the rest of this assignment. We first load the text file and convert each line of the file into an element in an RDD. Next, we use `map(parseApacheLogLine)` to apply the parse function to each element and turn each line into a pair `Row` object. Finally, we cache the RDD in memory since we'll use it throughout this notebook. The log file is available at `data/apache/apache.log`."
   ]
  },
  {
   "cell_type": "code",
   "execution_count": 87,
   "metadata": {
    "collapsed": false
   },
   "outputs": [
    {
     "name": "stdout",
     "output_type": "stream",
     "text": [
      "Read MapPartitionsRDD[173] at map at <console>:111.count() lines, successfully parsed MapPartitionsRDD[175] at map at <console>:112.count() lines, and failed to parse MapPartitionsRDD[177] at map at <console>:113.count()\n",
      "Row(in24.inetnebr.com,-,-,Cal(1995,8,1,0,0,1),GET,/shuttle/missions/sts-68/news/sts-68-mcc-05.txt,HTTP/1.0,200,1839)\n",
      "Row(uplherc.upl.com,-,-,Cal(1995,8,1,0,0,7),GET,/,HTTP/1.0,304,0)\n",
      "Row(uplherc.upl.com,-,-,Cal(1995,8,1,0,0,8),GET,/images/ksclogo-medium.gif,HTTP/1.0,304,0)\n",
      "Row(uplherc.upl.com,-,-,Cal(1995,8,1,0,0,8),GET,/images/MOSAIC-logosmall.gif,HTTP/1.0,304,0)\n",
      "Row(uplherc.upl.com,-,-,Cal(1995,8,1,0,0,8),GET,/images/USA-logosmall.gif,HTTP/1.0,304,0)\n",
      "Row(ix-esc-ca2-07.ix.netcom.com,-,-,Cal(1995,8,1,0,0,9),GET,/images/launch-logo.gif,HTTP/1.0,200,1713)\n",
      "Row(uplherc.upl.com,-,-,Cal(1995,8,1,0,0,10),GET,/images/WORLD-logosmall.gif,HTTP/1.0,304,0)\n",
      "Row(slppp6.intermind.net,-,-,Cal(1995,8,1,0,0,10),GET,/history/skylab/skylab.html,HTTP/1.0,200,1687)\n",
      "Row(piweba4y.prodigy.com,-,-,Cal(1995,8,1,0,0,10),GET,/images/launchmedium.gif,HTTP/1.0,200,11853)\n",
      "Row(slppp6.intermind.net,-,-,Cal(1995,8,1,0,0,11),GET,/history/skylab/skylab-small.gif,HTTP/1.0,200,9202)\n",
      "Row(slppp6.intermind.net,-,-,Cal(1995,8,1,0,0,12),GET,/images/ksclogosmall.gif,HTTP/1.0,200,3635)\n",
      "Row(ix-esc-ca2-07.ix.netcom.com,-,-,Cal(1995,8,1,0,0,12),GET,/history/apollo/images/apollo-logo1.gif,HTTP/1.0,200,1173)\n",
      "Row(slppp6.intermind.net,-,-,Cal(1995,8,1,0,0,13),GET,/history/apollo/images/apollo-logo.gif,HTTP/1.0,200,3047)\n",
      "Row(uplherc.upl.com,-,-,Cal(1995,8,1,0,0,14),GET,/images/NASA-logosmall.gif,HTTP/1.0,304,0)\n",
      "Row(133.43.96.45,-,-,Cal(1995,8,1,0,0,16),GET,/shuttle/missions/sts-69/mission-sts-69.html,HTTP/1.0,200,10566)\n",
      "Row(kgtyk4.kj.yamagata-u.ac.jp,-,-,Cal(1995,8,1,0,0,17),GET,/,HTTP/1.0,200,7280)\n",
      "Row(kgtyk4.kj.yamagata-u.ac.jp,-,-,Cal(1995,8,1,0,0,18),GET,/images/ksclogo-medium.gif,HTTP/1.0,200,5866)\n",
      "Row(d0ucr6.fnal.gov,-,-,Cal(1995,8,1,0,0,19),GET,/history/apollo/apollo-16/apollo-16.html,HTTP/1.0,200,2743)\n",
      "Row(ix-esc-ca2-07.ix.netcom.com,-,-,Cal(1995,8,1,0,0,19),GET,/shuttle/resources/orbiters/discovery.html,HTTP/1.0,200,6849)\n",
      "Row(d0ucr6.fnal.gov,-,-,Cal(1995,8,1,0,0,20),GET,/history/apollo/apollo-16/apollo-16-patch-small.gif,HTTP/1.0,200,14897)\n"
     ]
    },
    {
     "name": "stderr",
     "output_type": "stream",
     "text": []
    }
   ],
   "source": [
    "// Just run this code\n",
    "import scala.util.matching\n",
    "import org.apache.spark.rdd.RDD\n",
    "\n",
    "case class Cal(year: Int, month: Int, day: Int, hour: Int, minute: Int, second: Int)                \n",
    "\n",
    "case class Row(host: String,\n",
    "               client_identd: String,\n",
    "               user_id: String,\n",
    "               date_time: Cal,\n",
    "               method: String,\n",
    "               endpoint: String,\n",
    "               protocol: String,\n",
    "               response_code: Int,\n",
    "               content_size: Long)\n",
    "                \n",
    "\n",
    "val month_map = Map(\"Jan\" -> 1, \"Feb\" -> 2, \n",
    "                    \"Mar\" -> 3, \"Apr\" -> 4, \n",
    "                    \"May\" -> 5, \"Jun\" -> 6, \n",
    "                    \"Jul\" -> 7, \"Aug\" -> 8,  \n",
    "                    \"Sep\" -> 9, \"Oct\" -> 10, \n",
    "                    \"Nov\" -> 11, \"Dec\" -> 12)\n",
    "\n",
    "def parse_apache_time(s: String): Cal = {\n",
    "    // Convert Apache time format into a Python datetime object\n",
    "    // Args:\n",
    "    //    s (str): date and time in Apache time format\n",
    "    // Returns:\n",
    "    //   datetime: datetime object (ignore timezone for now)\n",
    "\n",
    "    return Cal(s.substring(7, 11).toInt,\n",
    "            month_map(s.substring(3, 6)),\n",
    "            s.substring(0, 2).toInt,\n",
    "            s.substring(12, 14).toInt,\n",
    "            s.substring(15, 17).toInt,\n",
    "            s.substring(18, 20).toInt)\n",
    "}\n",
    "\n",
    "def parseApacheLogLine(logline: String): (Either[Row, String], Int) = {\n",
    "    // Parse a line in the Apache Common Log format\n",
    "    // Args:\n",
    "    //    logline (str): a line of text in the Apache Common Log format\n",
    "    // Returns:\n",
    "    //    tuple: either a dictionary containing the parts of the Apache Access Log and 1,\n",
    "    //           or the original invalid log line and 0\n",
    "    \n",
    "    val ret = APACHE_ACCESS_LOG_PATTERN.findAllIn(logline).matchData.toList\n",
    "    if (ret.isEmpty)\n",
    "        return (Right(logline), 0)\n",
    "\n",
    "    val r = ret(0)\n",
    "    val size_field = r.group(9)\n",
    "\n",
    "    var size: Long = 0\n",
    "    if (size_field != \"-\")\n",
    "        size = size_field.toLong\n",
    "\n",
    "    return (Left(Row(\n",
    "            r.group(1),\n",
    "            r.group(2),\n",
    "            r.group(3),\n",
    "            parse_apache_time(r.group(4)),\n",
    "            r.group(5),\n",
    "            r.group(6),\n",
    "            r.group(7),\n",
    "            r.group(8).toInt,\n",
    "            size)), 1)\n",
    "}\n",
    "\n",
    "def parseLogs(): (RDD[(Either[Row, String], Int)], RDD[Row], RDD[String]) = {\n",
    "    val fileName = \"data/apache/apache.log\"\n",
    "    \n",
    "    val parsed_logs = sc.textFile(fileName).map(parseApacheLogLine).cache()\n",
    "    val access_logs = parsed_logs.filter(x => x._2 == 1).map(x => x._1.left.get)\n",
    "    val failed_logs = parsed_logs.filter(x => x._2 == 0).map(x => x._1.right.get)\n",
    "\n",
    "    val failed_logs_count = failed_logs.count()\n",
    "    \n",
    "    if (failed_logs_count > 0) {\n",
    "        println(s\"Number of invalid logline: $failed_logs.count()\")\n",
    "        failed_logs.take(20).foreach(println)\n",
    "    }\n",
    "    \n",
    "    println(s\"Read $parsed_logs.count() lines, successfully parsed $access_logs.count() lines, and failed to parse $failed_logs.count()\")\n",
    "    \n",
    "    return (parsed_logs, access_logs, failed_logs)\n",
    "}\n",
    "\n",
    "// A regular expression pattern to extract fields from the log line\n",
    "val APACHE_ACCESS_LOG_PATTERN = \"\"\"^(\\S+) (\\S+) (\\S+) \\[([\\w:/]+\\s[+\\-]\\d{4})\\] \"(\\S+) (\\S+)\\s*(\\S*)\\s*\" (\\d{3}) (\\S+)\"\"\".r\n",
    "\n",
    "val (parsed_logs, access_logs, failed_logs) = parseLogs()\n",
    "access_logs.take(20).foreach(println)"
   ]
  },
  {
   "cell_type": "markdown",
   "metadata": {},
   "source": [
    "### **Part 2: Sample Analyses on the Web Server Log File**\n",
    " \n"
   ]
  },
  {
   "cell_type": "markdown",
   "metadata": {},
   "source": [
    "Let's compute some statistics about the sizes of content being returned by the web server. In particular, we'd like to know what are the average, minimum, and maximum content sizes. We can compute the statistics by applying a `map` to the `access_logs` RDD. The *lambda* function we want for the map is to extract the `content_size` field from the RDD. The map produces a new RDD containing only the `content_sizes` (one element for each `Row` object in the `access_logs` RDD). To compute the minimum and maximum statistics, we can use `min()` and `max()` functions on the new RDD. We can compute the average statistic by using the `reduce` function with a *lambda* function that sums the two inputs, which represent two elements from the new RDD that are being reduced together. The result of the `reduce()` is the total content size from the log and it is to be divided by the number of requests as determined using the `count()` function on the new RDD."
   ]
  },
  {
   "cell_type": "code",
   "execution_count": 88,
   "metadata": {
    "collapsed": false
   },
   "outputs": [
    {
     "name": "stdout",
     "output_type": "stream",
     "text": [
      "Content Size Avg: 17528, Min: 0, Max: 3421948\n"
     ]
    },
    {
     "name": "stderr",
     "output_type": "stream",
     "text": []
    }
   ],
   "source": [
    "// TODO: Replace <FILL IN> with appropriate code\n",
    "// Calculate statistics based on the content size.\n",
    "val content_sizes = access_logs.map(log => log.content_size).cache()\n",
    "\n",
    "println(\"Content Size Avg: \" + (content_sizes.reduce(_ + _)/ content_sizes.count()) +\n",
    "         \", Min: \" + content_sizes.min() +\n",
    "         \", Max: \" + content_sizes.max())"
   ]
  },
  {
   "cell_type": "markdown",
   "metadata": {},
   "source": [
    "Next, lets look at the response codes that appear in the log. As with the content size analysis, first we create a new RDD by using a *lambda* function to extract the `response_code` field from the `access_logs` RDD. The difference here is that we will use a \"pair tuple\" instead of just the field itself. Using a pair tuple consisting of the response code and 1 will let us count how many records have a particular response code. Using the new RDD, we perform a `reduceByKey` function. `reduceByKey` performs a reduce on a per-key basis by applying the *lambda* function to each element, pairwise with the same key. We use the simple *lambda* function of adding the two values. Then, we cache the resulting RDD and create a list by using the `take` function."
   ]
  },
  {
   "cell_type": "code",
   "execution_count": 89,
   "metadata": {
    "collapsed": false
   },
   "outputs": [
    {
     "name": "stderr",
     "output_type": "stream",
     "text": []
    },
    {
     "name": "stdout",
     "output_type": "stream",
     "text": [
      "Found 7 response codes\n",
      "Response Code Counts: \n",
      "(404,3137) (200,426183) (302,6994) (304,33660) (500,2) (403,21) (501,3) "
     ]
    }
   ],
   "source": [
    "// TODO: Replace <FILL IN> with appropriate code\n",
    "val responseCodeToCount = access_logs.map(log => (log.response_code, 1)).reduceByKey(_ + _).cache()\n",
    "\n",
    "val responseCodeToCountList = responseCodeToCount.take(100)\n",
    "\n",
    "println(\"Found \" + responseCodeToCountList.length + \" response codes\")\n",
    "println(\"Response Code Counts: \")\n",
    "responseCodeToCountList.foreach(x => print(x + \" \"))"
   ]
  },
  {
   "cell_type": "markdown",
   "metadata": {},
   "source": [
    "Let's look at hosts that have accessed the server multiple times (e.g., more than ten times). First, we create a new RDD by using a *lambda* function to extract the `host` field from the `access_logs` RDD using a pair tuple consisting of the host and 1, which will let us count how many records were created by a particular host's request. Using the new RDD, we perform a `reduceByKey` function with a *lambda* function that adds the two values. We then filter the result based on the count of accesses by each host (the second element of each pair) being greater than 10. Next, we extract the host name by performing a `map` with a *lambda* function that returns the first element of each pair. Finally, we extract 20 elements from the resulting RDD."
   ]
  },
  {
   "cell_type": "code",
   "execution_count": 90,
   "metadata": {
    "collapsed": false
   },
   "outputs": [
    {
     "name": "stdout",
     "output_type": "stream",
     "text": [
      "Any 20 hosts that have accessed more then 10 times: \n",
      "n1043347.ksc.nasa.gov \n",
      "193.74.242.28 \n",
      "d02.as1.nisiq.net \n",
      "jcday.nccts.drenet.dnd.ca \n",
      "ip-pdx2-56.teleport.com \n",
      "192.112.22.82 \n",
      "anx3p4.trib.com \n",
      "198.77.113.34 \n",
      "204.235.86.107 \n",
      "s9.its.bldrdoc.gov \n",
      "crc182.cac.washington.edu \n",
      "204.255.92.30 \n",
      "161.243.222.10 \n",
      "telford-107.salford.ac.uk \n",
      "universe6.barint.on.ca \n",
      "gatekeeper.homecare.com \n",
      "kaifmv.tksc.nasda.go.jp \n",
      "unknown.edsa.co.za \n",
      "onyx.southwind.net \n",
      "sunspot.eds.ecip.nagoya-u.ac.jp \n"
     ]
    },
    {
     "name": "stderr",
     "output_type": "stream",
     "text": []
    }
   ],
   "source": [
    "// TODO: Replace <FILL IN> with appropriate code\n",
    "// Any hosts that has accessed the server more than 10 times.\n",
    "val hostCountPairTuple = access_logs.map(log => (log.host, 1))\n",
    "val hostSum = hostCountPairTuple.reduceByKey(_ + _)\n",
    "val hostMoreThan10 = hostSum.filter(_._2 > 10)\n",
    "val hostsPick20 = hostMoreThan10.map(x => x._1).take(20)\n",
    "\n",
    "println(\"Any 20 hosts that have accessed more then 10 times: \")\n",
    "hostsPick20.foreach(x => println(x + \" \"))"
   ]
  },
  {
   "cell_type": "markdown",
   "metadata": {},
   "source": [
    "For the final example, we'll look at the top endpoints (URIs) in the log. To determine them, we first create a new RDD by using a *lambda* function to extract the `endpoint` field from the `access_logs` RDD using a pair tuple consisting of the endpoint and 1 which will let us count how many records were created by a particular host's request. Using the new RDD, we perform a `reduceByKey` function with a *lambda* function that adds the two values. We then extract the top ten endpoints by performing a `takeOrdered` with a value of 10 and a *lambda* function to create a sorted list with the top endpoints at the bottom."
   ]
  },
  {
   "cell_type": "code",
   "execution_count": 91,
   "metadata": {
    "collapsed": false
   },
   "outputs": [
    {
     "name": "stdout",
     "output_type": "stream",
     "text": [
      "Top Ten Endpoints: (/images/NASA-logosmall.gif,27035) \n",
      "(/images/KSC-logosmall.gif,21458) \n",
      "(/images/MOSAIC-logosmall.gif,20254) \n",
      "(/images/USA-logosmall.gif,20172) \n",
      "(/images/WORLD-logosmall.gif,20004) \n",
      "(/images/ksclogo-medium.gif,19300) \n",
      "(/ksc.html,13508) \n",
      "(/history/apollo/images/apollo-logo1.gif,11074) \n",
      "(/images/launch-logo.gif,10120) \n",
      "(/,9481) \n",
      "(/images/NASA-logosmall.gif,27035) \n",
      "(/images/KSC-logosmall.gif,21458) \n",
      "(/images/MOSAIC-logosmall.gif,20254) \n",
      "(/images/USA-logosmall.gif,20172) \n",
      "(/images/WORLD-logosmall.gif,20004) \n",
      "(/images/ksclogo-medium.gif,19300) \n",
      "(/ksc.html,13508) \n",
      "(/history/apollo/images/apollo-logo1.gif,11074) \n",
      "(/images/launch-logo.gif,10120) \n",
      "(/,9481) \n"
     ]
    },
    {
     "name": "stderr",
     "output_type": "stream",
     "text": []
    }
   ],
   "source": [
    "// TODO: Replace <FILL IN> with appropriate code\n",
    "// Top Endpoints\n",
    "val endpointCounts = access_logs.map(log => (log.endpoint, 1)).reduceByKey(_ + _)\n",
    "\n",
    "val topEndpoints1 = endpointCounts.takeOrdered(10)(Ordering.by[(String,Int),Int](_._2).reverse)\n",
    "//Another possible choice would be to use the function top for ordering RDDs by value with the top endpoints first.\n",
    "val topEndpoints = endpointCounts.map(x => (x._2,x._1)).top(10).map(x => (x._2,x._1))\n",
    "\n",
    "print(\"Top Ten Endpoints: \")\n",
    "topEndpoints.foreach(x => println(x + \" \"))\n",
    "topEndpoints1.foreach(x => println(x + \" \"))"
   ]
  },
  {
   "cell_type": "markdown",
   "metadata": {},
   "source": [
    "### **Part 3: Analyzing Web Server Log File**\n"
   ]
  },
  {
   "cell_type": "markdown",
   "metadata": {},
   "source": [
    "What are the top ten endpoints which did not have return code 200? Create a sorted list containing top ten endpoints and the number of times that they were accessed with non-200 return code. Think about the steps that you need to perform to determine which endpoints did not have a 200 return code, how you will uniquely count those endpoints, and sort the list. "
   ]
  },
  {
   "cell_type": "code",
   "execution_count": 92,
   "metadata": {
    "collapsed": false
   },
   "outputs": [
    {
     "name": "stdout",
     "output_type": "stream",
     "text": [
      "Top Ten failed URLs: \n",
      "(/images/NASA-logosmall.gif,3914) \n",
      "(/images/KSC-logosmall.gif,2906) \n",
      "(/images/MOSAIC-logosmall.gif,2107) \n",
      "(/images/USA-logosmall.gif,2079) \n",
      "(/images/WORLD-logosmall.gif,2006) \n",
      "(/images/ksclogo-medium.gif,1929) \n",
      "(/history/apollo/images/apollo-logo1.gif,1067) \n",
      "(/images/launch-logo.gif,1022) \n",
      "(/,871) \n",
      "(/images/ksclogosmall.gif,663) \n"
     ]
    },
    {
     "name": "stderr",
     "output_type": "stream",
     "text": []
    }
   ],
   "source": [
    "// TODO: Replace <FILL IN> with appropriate code\n",
    "\n",
    "val not200 = access_logs.filter(log => log.response_code != 200)\n",
    "val endpointCountPairTuple = not200.map(log => (log.endpoint, 1))\n",
    "val endpointSum = endpointCountPairTuple.reduceByKey(_ + _)\n",
    "val topTenErrURLs = endpointSum.takeOrdered(10)(Ordering.by[(String,Int),Int](_._2).reverse)\n",
    "\n",
    "println(\"Top Ten failed URLs: \")\n",
    "topTenErrURLs.foreach(x => println(x + \" \"))"
   ]
  },
  {
   "cell_type": "markdown",
   "metadata": {},
   "source": [
    "Let's count the number of unique hosts in the entire log. Think about the steps that you need to perform to count the number of different hosts in the log."
   ]
  },
  {
   "cell_type": "code",
   "execution_count": 93,
   "metadata": {
    "collapsed": false
   },
   "outputs": [
    {
     "name": "stdout",
     "output_type": "stream",
     "text": [
      "Unique hosts: 26672\n"
     ]
    },
    {
     "name": "stderr",
     "output_type": "stream",
     "text": []
    }
   ],
   "source": [
    "// TODO: Replace <FILL IN> with appropriate code\n",
    "\n",
    "val hosts = access_logs.map(log => log.host)\n",
    "val uniqueHosts = hosts.distinct()\n",
    "\n",
    "val uniqueHostCount = uniqueHosts.count()\n",
    "println(\"Unique hosts: \" + uniqueHostCount)"
   ]
  },
  {
   "cell_type": "markdown",
   "metadata": {},
   "source": [
    "Now, let's determine the number of unique hosts in the entire log on a day-by-day basis. This computation will give us counts of the number of unique daily hosts. We'd like a list sorted by increasing day of the month which includes the day of the month and the associated number of unique hosts for that day. Make sure you cache the resulting RDD `dailyHosts` so that we can reuse it in the next exercise. Think about the steps that you need to perform to count the number of different hosts that make requests *each* day. Since the log only covers a single month, you can ignore the month."
   ]
  },
  {
   "cell_type": "code",
   "execution_count": 94,
   "metadata": {
    "collapsed": false
   },
   "outputs": [
    {
     "name": "stdout",
     "output_type": "stream",
     "text": [
      "Unique hosts per day: \n",
      "(1,2582) \n",
      "(3,3222) \n",
      "(4,4190) \n",
      "(5,2502) \n",
      "(6,2537) \n",
      "(7,4106) \n",
      "(8,4406) \n",
      "(9,4317) \n",
      "(10,4523) \n",
      "(11,2388) \n"
     ]
    },
    {
     "name": "stderr",
     "output_type": "stream",
     "text": []
    }
   ],
   "source": [
    "// TODO: Replace <FILL IN> with appropriate code\n",
    "\n",
    "val dayToHostPairTuple = access_logs.map(log => (log.date_time.day,log.host))\n",
    "val dayGroupedHosts = dayToHostPairTuple.groupByKey()\n",
    "\n",
    "val dayHostCount = dayGroupedHosts.map(log => (log._1,log._2.toList.distinct.size))\n",
    "val dailyHosts = dayHostCount.sortByKey(true).cache()\n",
    "val dailyHostsList = dailyHosts.take(31)\n",
    "\n",
    "println(\"Unique hosts per day: \")\n",
    "dailyHostsList.foreach(x => println(x + \" \"))"
   ]
  },
  {
   "cell_type": "markdown",
   "metadata": {},
   "source": [
    "Next, let's determine the average number of requests on a day-by-day basis. We'd like a list by increasing day of the month and the associated average number of requests per host for that day. Make sure you cache the resulting RDD `avgDailyReqPerHost` so that we can reuse it in the next exercise. To compute the average number of requests per host, get the total number of request across all hosts and divide that by the number of unique hosts. Since the log only covers a single month, you can skip checking for the month. Also to keep it simple, when calculating the approximate average use the integer value."
   ]
  },
  {
   "cell_type": "code",
   "execution_count": 95,
   "metadata": {
    "collapsed": false
   },
   "outputs": [
    {
     "name": "stdout",
     "output_type": "stream",
     "text": [
      "Average number of daily requests per Hosts is \n",
      "(1,13) \n",
      "(3,12) \n",
      "(4,14) \n",
      "(5,12) \n",
      "(6,12) \n",
      "(7,13) \n",
      "(8,13) \n",
      "(9,14) \n",
      "(10,13) \n",
      "(11,13) \n"
     ]
    },
    {
     "name": "stderr",
     "output_type": "stream",
     "text": []
    }
   ],
   "source": [
    "// TODO: Replace <FILL IN> with appropriate code\n",
    "\n",
    "val dayAndHostTuple = access_logs.map(log => (log.date_time.day,log.host))\n",
    "val groupedByDay = dayAndHostTuple.groupByKey()\n",
    "val sortedByDay = groupedByDay.sortByKey(true)\n",
    "val avgDailyReqPerHost = sortedByDay.map(log => (log._1,log._2.size/log._2.toList.distinct.size)).cache() \n",
    "val avgDailyReqPerHostList = avgDailyReqPerHost.takeOrdered(31)\n",
    "\n",
    "println(\"Average number of daily requests per Hosts is \")\n",
    "avgDailyReqPerHostList.foreach(x => println(x + \" \"))"
   ]
  },
  {
   "cell_type": "markdown",
   "metadata": {},
   "source": [
    "### **Part 4: Exploring 404 Response Codes**\n"
   ]
  },
  {
   "cell_type": "markdown",
   "metadata": {},
   "source": [
    "Let's count the 404 response codes. Create a RDD containing only log records with a 404 response code. Make sure you `cache()` the RDD `badRecords` as we will use it in the rest of this exercise. How many 404 records are in the log?"
   ]
  },
  {
   "cell_type": "code",
   "execution_count": 96,
   "metadata": {
    "collapsed": false
   },
   "outputs": [
    {
     "name": "stdout",
     "output_type": "stream",
     "text": [
      "Found 3137 404 URLs.\n"
     ]
    },
    {
     "name": "stderr",
     "output_type": "stream",
     "text": []
    }
   ],
   "source": [
    "// TODO: Replace <FILL IN> with appropriate code\n",
    "\n",
    "val badRecords = access_logs.filter(_.response_code == 404).cache()\n",
    "\n",
    "println(\"Found \" + badRecords.count() + \" 404 URLs.\")\n"
   ]
  },
  {
   "cell_type": "markdown",
   "metadata": {},
   "source": [
    "Now, let's list the 404 response code records. Using the RDD containing only log records with a 404 response code that you cached in the previous part, print out a list up to 40 *distinct* endpoints that generate 404 errors -  no endpoint should appear more than once in your list."
   ]
  },
  {
   "cell_type": "code",
   "execution_count": 97,
   "metadata": {
    "collapsed": false
   },
   "outputs": [
    {
     "name": "stdout",
     "output_type": "stream",
     "text": [
      "404 URLS: \n",
      "/PERSONS/NASA-CM. \n",
      "/shuttle/missions/sts-1/sts-1-mission.html \n",
      "/history/apollo/sa-1/sa-1-patch-small.gif \n",
      "/public.win3/winvn \n",
      "/shuttle/technology/STS_newsref/spacelab.html \n",
      "/shutttle/missions/sts-70/images/KSC-95EC-1059.jpg \n",
      "/shuttle/missions/sts-70/images/KSC-95EC-o667.gif\" \n",
      "/%3Aspacelink.msfc.nasa.gov \n",
      "/history/apollo/sa-1/images/ \n",
      "/:/spacelink.msfc.nasa.gov \n",
      "/sts-71/visitor/ \n",
      "/history/apollo/sa-10/sa-10-patch-small.gif \n",
      "/elv/updated.gif \n",
      "/shuttle/missions/mission.html \n",
      "/enterprise \n",
      "/space/pub/gif \n",
      "/netpro/mlm/index.htm \n",
      "/shuttle/missions/sts-83/mission-sts-83.html \n",
      "/shuttle/technology/missions/missions.html \n",
      "/software/winvn/winvn/html \n",
      "/news/sci.space.shuttle/archive/sci-space-shuttle-22-apr-1995-40.txt \n",
      "/shuttle/missions/sts-69/mission-sts-69.htlm \n",
      "/history/gemini/gemini-12.html \n",
      "/shuttle/missions/sts-67/images/k95p0383.txt \n",
      "/wwwicons/red.gif \n",
      "/shuttle/missions/sts-69/mission_sts-69.htlm \n",
      "/ksc.shtml \n",
      "/history/apollo/a-004/a-004-patch-small.gif \n",
      "/shuttle/html \n",
      "/www/shuttle/countdown/liftoff.html \n",
      "/\\\\yahoo.com \n",
      "/history/apollo/apollo-13/apollo-13.info.html. \n",
      "/elv/ATLAS_CENTAUR/whisae.htm \n",
      "/gacts/faq12.html \n",
      "/shuttle/technology/sts-newsref/srb.html#srb \n",
      "/software/winvn/userguide/1_2.gif \n",
      "/shuttle/missions/sts-67/images/k95p0381.gif \n",
      "/shuttle/countdown/images/INDEX.gif \n",
      "/~terrig/bookmark.html \n",
      "/shuttle/news/sci.space.news/2169 \n"
     ]
    },
    {
     "name": "stderr",
     "output_type": "stream",
     "text": []
    }
   ],
   "source": [
    "// TODO: Replace <FILL IN> with appropriate code\n",
    "\n",
    "val badEndpoints = badRecords.map(_.endpoint)\n",
    "val badUniqueEndpoints = badEndpoints.distinct()\n",
    "val badUniqueEndpointsPick40 = badUniqueEndpoints.take(40)\n",
    "\n",
    "println(\"404 URLS: \")\n",
    "badUniqueEndpointsPick40.foreach(x => println(x + \" \"))"
   ]
  },
  {
   "cell_type": "markdown",
   "metadata": {},
   "source": [
    "Using the RDD containing only log records with a 404 response code that you cached before, print out a list of the top twenty endpoints that generate the most 404 errors. Remember, top endpoints should be in sorted order."
   ]
  },
  {
   "cell_type": "code",
   "execution_count": 98,
   "metadata": {
    "collapsed": false
   },
   "outputs": [
    {
     "name": "stdout",
     "output_type": "stream",
     "text": [
      "Top Twenty 404 URLs: \n",
      "(/images/nasa-logo.gif,319) \n",
      "(/pub/winvn/readme.txt,257) \n",
      "(/pub/winvn/release.txt,199) \n",
      "(/shuttle/missions/STS-69/mission-STS-69.html,181) \n",
      "(/elv/DELTA/uncons.htm,106) \n",
      "(/images/Nasa-logo.gif,85) \n",
      "(/shuttle/missions/sts-68/ksc-upclose.gif,80) \n",
      "(/history/apollo/sa-1/sa-1-patch-small.gif,79) \n",
      "(/images/crawlerway-logo.gif,63) \n",
      "(/://spacelink.msfc.nasa.gov,55) \n",
      "(/history/apollo/a-001/a-001-patch-small.gif,49) \n",
      "(/shuttle/resources/orbiters/atlantis.gif,39) \n",
      "(/history/apollo/images/little-joe.jpg,36) \n",
      "(/history/apollo/pad-abort-test-1/pad-abort-test-1-patch-small.gif,36) \n",
      "(/shuttle/countdown/count69.gif,31) \n",
      "(/images/lf-logo.gif,27) \n",
      "(/history/apollo/sa-5/sa-5-patch-small.gif,24) \n",
      "(/shuttle/resources/orbiters/challenger.gif,24) \n",
      "(/robots.txt,23) \n",
      "(/shuttle/resources/orbiters/discovery.gif,20) \n"
     ]
    },
    {
     "name": "stderr",
     "output_type": "stream",
     "text": []
    }
   ],
   "source": [
    "// TODO: Replace <FILL IN> with appropriate code\n",
    "\n",
    "object ErrOrdering extends Ordering[(String, Int)] {\n",
    "  def compare(a: (String, Int), b: (String, Int)) = a._2 compare b._2\n",
    "}\n",
    "\n",
    "val badEndpointsCountPairTuple = badRecords.map(log => (log.endpoint, 1))\n",
    "val badEndpointsSum = badEndpointsCountPairTuple.reduceByKey(_ + _)\n",
    "val badEndpointsTop20 = badEndpointsSum.takeOrdered(20)(ErrOrdering.reverse)\n",
    "\n",
    "println(\"Top Twenty 404 URLs: \")\n",
    "badEndpointsTop20.foreach(x => println(x + \" \"))"
   ]
  },
  {
   "cell_type": "markdown",
   "metadata": {},
   "source": [
    "Instead of looking at the endpoints that generated 404 errors, let's look at the hosts that encountered 404 errors. Using the RDD containing only log records with a 404 response code that you cached before, print out a list of the top twenty-five hosts that generate the most 404 errors."
   ]
  },
  {
   "cell_type": "code",
   "execution_count": 99,
   "metadata": {
    "collapsed": false
   },
   "outputs": [
    {
     "name": "stdout",
     "output_type": "stream",
     "text": [
      "Top 25 hosts that generated errors: \n",
      "(maz3.maz.net,39) \n",
      "(nexus.mlckew.edu.au,37) \n",
      "(ts8-1.westwood.ts.ucla.edu,37) \n",
      "(piweba3y.prodigy.com,34) \n",
      "(spica.sci.isas.ac.jp,27) \n",
      "(203.13.168.17,25) \n",
      "(203.13.168.24,25) \n",
      "(www-c4.proxy.aol.com,23) \n",
      "(scooter.pa-x.dec.com,23) \n",
      "(onramp2-9.onr.com,22) \n",
      "(crl5.crl.com,22) \n",
      "(198.40.25.102.sap2.artic.edu,21) \n",
      "(msp1-16.nas.mr.net,20) \n",
      "(gn2.getnet.com,20) \n",
      "(isou24.vilspa.esa.es,19) \n",
      "(tigger.nashscene.com,19) \n",
      "(dial055.mbnet.mb.ca,19) \n",
      "(dialup551.chicago.mci.net,18) \n",
      "(utsi057.utsi.com,17) \n",
      "(cougar.oro.net,17) \n",
      "(quadra_alpha.rollins.edu,17) \n",
      "(ix-atl10-08.ix.netcom.com,16) \n",
      "(micromatix.jagunet.com,16) \n",
      "(www-relay.pa-x.dec.com,14) \n",
      "(redx3.cac.washington.edu,14) \n"
     ]
    },
    {
     "name": "stderr",
     "output_type": "stream",
     "text": []
    }
   ],
   "source": [
    "// TODO: Replace <FILL IN> with appropriate code\n",
    "\n",
    "val errHostsCountPairTuple = badRecords.map(log => (log.host, 1))\n",
    "val errHostsSum = errHostsCountPairTuple.reduceByKey(_ + _)\n",
    "val errHostsTop25 = errHostsSum.takeOrdered(25)(Ordering[Int].reverse.on(x => x._2))\n",
    "\n",
    "println(\"Top 25 hosts that generated errors: \")\n",
    "errHostsTop25.foreach(x => println(x + \" \"))"
   ]
  },
  {
   "cell_type": "markdown",
   "metadata": {},
   "source": [
    "Let's explore the 404 records temporally. Break down the 404 requests by day and get the daily counts sorted by day as a list. Since the log only covers a single month, you can ignore the month in your checks."
   ]
  },
  {
   "cell_type": "code",
   "execution_count": 100,
   "metadata": {
    "collapsed": false
   },
   "outputs": [
    {
     "name": "stdout",
     "output_type": "stream",
     "text": [
      "404 Errors by day: \n",
      "(1,243) \n",
      "(3,303) \n",
      "(4,346) \n",
      "(5,234) \n",
      "(6,372) \n",
      "(7,532) \n",
      "(8,381) \n",
      "(9,279) \n",
      "(10,314) \n",
      "(11,133) \n"
     ]
    },
    {
     "name": "stderr",
     "output_type": "stream",
     "text": []
    }
   ],
   "source": [
    "// TODO: Replace <FILL IN> with appropriate code\n",
    "\n",
    "val errDateCountPairTuple = badRecords.map(log => (log.date_time.day, 1))\n",
    "val errDateSum = errDateCountPairTuple.reduceByKey(_ + _)\n",
    "val errDateSorted = errDateSum.cache()\n",
    "val errByDate = errDateSorted.takeOrdered(30)\n",
    "\n",
    "println(\"404 Errors by day: \")\n",
    "errByDate.foreach(x => println(x + \" \"))"
   ]
  },
  {
   "cell_type": "markdown",
   "metadata": {},
   "source": [
    "Using the RDD `errDateSorted` you cached before, what are the top five days for 404 response codes and the corresponding counts of 404 response codes?"
   ]
  },
  {
   "cell_type": "code",
   "execution_count": 101,
   "metadata": {
    "collapsed": false
   },
   "outputs": [
    {
     "name": "stdout",
     "output_type": "stream",
     "text": [
      "Top Five dates for 404 requests: \n",
      "(7,532) \n",
      "(8,381) \n",
      "(6,372) \n",
      "(4,346) \n",
      "(10,314) \n"
     ]
    },
    {
     "name": "stderr",
     "output_type": "stream",
     "text": []
    }
   ],
   "source": [
    "// TODO: Replace <FILL IN> with appropriate code\n",
    "\n",
    "object DateOrdering extends Ordering[(Int, Int)] {\n",
    "  def compare(a: (Int, Int), b: (Int, Int)) = a._2 compare b._2\n",
    "}\n",
    "\n",
    "val topErrDate = errDateSorted.top(5)(DateOrdering)\n",
    "\n",
    "println(\"Top Five dates for 404 requests: \")\n",
    "topErrDate.foreach(x => println(x + \" \"))"
   ]
  },
  {
   "cell_type": "markdown",
   "metadata": {},
   "source": [
    "Using the RDD `badRecords` you cached before, and by hour of the day and in increasing order, create an RDD containing how many requests had a 404 return code for each hour of the day (midnight starts at 0). Cache the resulting RDD hourRecordsSorted and print that as a list."
   ]
  },
  {
   "cell_type": "code",
   "execution_count": 102,
   "metadata": {
    "collapsed": false
   },
   "outputs": [
    {
     "name": "stderr",
     "output_type": "stream",
     "text": []
    },
    {
     "name": "stdout",
     "output_type": "stream",
     "text": [
      "Top hours for 404 requests: \n",
      "(0,101) \n",
      "(1,97) \n",
      "(2,343) \n",
      "(3,197) \n",
      "(4,36) \n",
      "(5,27) \n",
      "(6,45) \n",
      "(7,61) \n",
      "(8,121) \n",
      "(9,91) \n",
      "(10,162) \n",
      "(11,136) \n",
      "(12,239) \n",
      "(13,195) \n",
      "(14,104) \n",
      "(15,164) \n",
      "(16,202) \n",
      "(17,134) \n",
      "(18,130) \n",
      "(19,102) \n",
      "(20,157) \n",
      "(21,105) \n",
      "(22,87) \n",
      "(23,101) \n"
     ]
    }
   ],
   "source": [
    "// TODO: Replace <FILL IN> with appropriate code\n",
    "\n",
    "val hourCountPairTuple = badRecords.map(log => (log.date_time.hour, 1))\n",
    "val hourRecordsSum = hourCountPairTuple.reduceByKey(_ + _)\n",
    "val hourRecordsSorted = hourRecordsSum.sortByKey(true).cache()\n",
    "val errHourList = hourRecordsSorted.collect()\n",
    "\n",
    "println(\"Top hours for 404 requests: \")\n",
    "errHourList.foreach(x => println(x + \" \"))"
   ]
  }
 ],
 "metadata": {
  "kernelspec": {
   "display_name": "Python 2",
   "language": "python",
   "name": "python2"
  },
  "language_info": {
   "name": "scala",
   "version": "2.10.5"
  }
 },
 "nbformat": 4,
 "nbformat_minor": 0
}
